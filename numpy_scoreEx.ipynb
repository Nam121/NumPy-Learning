{
  "nbformat": 4,
  "nbformat_minor": 0,
  "metadata": {
    "colab": {
      "provenance": [],
      "authorship_tag": "ABX9TyPOxsnXxfKSuCTxN43WPQtV",
      "include_colab_link": true
    },
    "kernelspec": {
      "name": "python3",
      "display_name": "Python 3"
    },
    "language_info": {
      "name": "python"
    }
  },
  "cells": [
    {
      "cell_type": "markdown",
      "metadata": {
        "id": "view-in-github",
        "colab_type": "text"
      },
      "source": [
        "<a href=\"https://colab.research.google.com/github/Nam121/Numpy-Learning/blob/main/numpy_scoreEx.ipynb\" target=\"_parent\"><img src=\"https://colab.research.google.com/assets/colab-badge.svg\" alt=\"Open In Colab\"/></a>"
      ]
    },
    {
      "cell_type": "code",
      "execution_count": 2,
      "metadata": {
        "id": "T_tD13oxeI9T"
      },
      "outputs": [],
      "source": [
        "import numpy as np\n",
        "scores=np.array([85, 90, 78, 92, 88, 76, 95, 89, 84, 91])"
      ]
    },
    {
      "cell_type": "code",
      "source": [
        "#AVG\n",
        "\n",
        "avg=np.mean(scores)\n",
        "print(avg)"
      ],
      "metadata": {
        "colab": {
          "base_uri": "https://localhost:8080/"
        },
        "id": "pesdaV7DeWpJ",
        "outputId": "b023e39b-aaad-4632-fd34-4ca58fe760ad"
      },
      "execution_count": 4,
      "outputs": [
        {
          "output_type": "stream",
          "name": "stdout",
          "text": [
            "86.8\n"
          ]
        }
      ]
    },
    {
      "cell_type": "code",
      "source": [
        "#Highest & Lowest\n",
        "\n",
        "highest=np.max(scores)\n",
        "lowest=np.min(scores)\n",
        "print(highest)\n",
        "print(lowest)"
      ],
      "metadata": {
        "colab": {
          "base_uri": "https://localhost:8080/"
        },
        "id": "PwVDW7kGewfB",
        "outputId": "5d2bd871-8f84-4a6c-8b56-296df9b88ea9"
      },
      "execution_count": 5,
      "outputs": [
        {
          "output_type": "stream",
          "name": "stdout",
          "text": [
            "95\n",
            "76\n"
          ]
        }
      ]
    },
    {
      "cell_type": "code",
      "source": [
        "#Score Range\n",
        "\n",
        "score_range=highest-lowest\n",
        "print(score_range)"
      ],
      "metadata": {
        "colab": {
          "base_uri": "https://localhost:8080/"
        },
        "id": "EV317bfhe_Io",
        "outputId": "55ac7902-cb54-4ea3-e6b8-f40838fe7689"
      },
      "execution_count": 6,
      "outputs": [
        {
          "output_type": "stream",
          "name": "stdout",
          "text": [
            "19\n"
          ]
        }
      ]
    },
    {
      "cell_type": "code",
      "source": [
        "#Above avg\n",
        "\n",
        "above_avg=scores[scores>avg]\n",
        "print(above_avg)"
      ],
      "metadata": {
        "colab": {
          "base_uri": "https://localhost:8080/"
        },
        "id": "h15JAbhofPv4",
        "outputId": "0ca9abd9-4c69-4436-daa9-f208b1d6164f"
      },
      "execution_count": 7,
      "outputs": [
        {
          "output_type": "stream",
          "name": "stdout",
          "text": [
            "[90 92 88 95 89 91]\n"
          ]
        }
      ]
    },
    {
      "cell_type": "code",
      "source": [
        "#SD\n",
        "\n",
        "sd=np.std(scores)\n",
        "print(sd)"
      ],
      "metadata": {
        "colab": {
          "base_uri": "https://localhost:8080/"
        },
        "id": "ELwR1e6XfY4D",
        "outputId": "f00dd0bc-c686-4ea3-bacc-48a092875561"
      },
      "execution_count": 8,
      "outputs": [
        {
          "output_type": "stream",
          "name": "stdout",
          "text": [
            "5.775811631277461\n"
          ]
        }
      ]
    },
    {
      "cell_type": "code",
      "source": [],
      "metadata": {
        "id": "8N_mPPTxfgno"
      },
      "execution_count": null,
      "outputs": []
    }
  ]
}